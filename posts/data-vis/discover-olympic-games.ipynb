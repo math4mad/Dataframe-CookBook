{
  "cells": [
    {
      "cell_type": "raw",
      "metadata": {},
      "source": [
        "---\n",
        "title: \"discover more olympic games\"\n",
        "author: \"math4mads\"\n",
        "date: \"2023-12-15\"\n",
        "categories: [dataframe,visualization,julia,machinelearning]\n",
        "image: \"olympic-games.jpg\"\n",
        "---"
      ],
      "id": "640466d1"
    },
    {
      "cell_type": "markdown",
      "metadata": {},
      "source": [
        ":::{.callout-warning title=\"Part 1\"}\n",
        "# Data PreProcessing\n",
        ":::\n",
        "\n",
        "## 1. load package"
      ],
      "id": "6233fe03"
    },
    {
      "cell_type": "code",
      "metadata": {},
      "source": [
        "include(\"../utils.jl\")   # import load_csv method"
      ],
      "id": "e19e8439",
      "execution_count": null,
      "outputs": []
    },
    {
      "cell_type": "markdown",
      "metadata": {},
      "source": [
        "## 2. load data"
      ],
      "id": "a70691aa"
    },
    {
      "cell_type": "code",
      "metadata": {},
      "source": [
        "athlete_events =load_csv(\"athlete_events\",false)\n",
        "noc_regions =load_csv(\"noc_regions\",false)\n",
        "@pipe names(athlete_events )|>lowercase.(_)|>rename!(athlete_events ,_);\n",
        "@pipe names(noc_regions )|>lowercase.(_)|>rename!(noc_regions ,_);"
      ],
      "id": "fa6312b4",
      "execution_count": null,
      "outputs": []
    },
    {
      "cell_type": "markdown",
      "metadata": {},
      "source": [
        "## 3. peek data"
      ],
      "id": "60e98537"
    },
    {
      "cell_type": "code",
      "metadata": {},
      "source": [
        "@chain athlete_events begin\n",
        "  @slice(1:5)\n",
        "end"
      ],
      "id": "7a4afbea",
      "execution_count": null,
      "outputs": []
    },
    {
      "cell_type": "code",
      "metadata": {},
      "source": [
        "@chain noc_regions begin\n",
        "  @slice(1:5)\n",
        "end"
      ],
      "id": "3b52b038",
      "execution_count": null,
      "outputs": []
    },
    {
      "cell_type": "markdown",
      "metadata": {},
      "source": [
        "## 4. describe data"
      ],
      "id": "d78c5407"
    },
    {
      "cell_type": "code",
      "metadata": {},
      "source": [
        " @pipe describe(athlete_events)|>select(_,[:variable,:nmissing,:eltype])"
      ],
      "id": "2fec9ce2",
      "execution_count": null,
      "outputs": []
    },
    {
      "cell_type": "code",
      "metadata": {},
      "source": [
        " @pipe describe(noc_regions)|>select(_,[:variable,:nmissing,:eltype])"
      ],
      "id": "9b765fd8",
      "execution_count": null,
      "outputs": []
    },
    {
      "cell_type": "markdown",
      "metadata": {},
      "source": [
        "## 5. shape of dataset"
      ],
      "id": "3de2d99c"
    },
    {
      "cell_type": "code",
      "metadata": {},
      "source": [
        "  size.([athlete_events,noc_regions])"
      ],
      "id": "c7e2b5d9",
      "execution_count": null,
      "outputs": []
    },
    {
      "cell_type": "markdown",
      "metadata": {},
      "source": [
        "## 6. merge dataset  \n"
      ],
      "id": "1063d6cd"
    },
    {
      "cell_type": "code",
      "metadata": {},
      "source": [
        "df=@left_join(athlete_events,noc_regions)\n",
        "first(df,5)"
      ],
      "id": "5ba299cd",
      "execution_count": null,
      "outputs": []
    },
    {
      "cell_type": "markdown",
      "metadata": {},
      "source": [
        ":::{.callout-warning title=\"Part 2\"}\n",
        "# Data Analysis \n",
        ":::\n",
        "\n",
        "## da.1  Distribution of the age of gold medalists\n",
        "### 1.1 data process "
      ],
      "id": "54e964ff"
    },
    {
      "cell_type": "code",
      "metadata": {},
      "source": [
        "   age_goldmedal=@chain df begin\n",
        "      @filter(medal==\"Gold\")\n",
        "      @select(age)\n",
        "   end"
      ],
      "id": "e2afb939",
      "execution_count": null,
      "outputs": []
    },
    {
      "cell_type": "markdown",
      "metadata": {},
      "source": [
        "### 1.2 plot"
      ],
      "id": "459384cb"
    },
    {
      "cell_type": "code",
      "metadata": {},
      "source": [
        "let\n",
        "set_aog_theme!()\n",
        "axis = (width = 225, height = 225)\n",
        "plt = data(age_goldmedal) * mapping(:age) *visual(Density)\n",
        "draw(plt)\n",
        "end"
      ],
      "id": "34788559",
      "execution_count": null,
      "outputs": []
    }
  ],
  "metadata": {
    "kernelspec": {
      "name": "julia-1.9",
      "language": "julia",
      "display_name": "Julia 1.9.0"
    }
  },
  "nbformat": 4,
  "nbformat_minor": 5
}